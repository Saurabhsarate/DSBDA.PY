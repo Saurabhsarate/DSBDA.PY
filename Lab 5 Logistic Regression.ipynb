{
 "cells": [
  {
   "cell_type": "code",
   "execution_count": 6,
   "id": "a1900b86",
   "metadata": {},
   "outputs": [],
   "source": [
    "import pandas as pd\n",
    "import matplotlib.pyplot as plt\n",
    "import numpy as np"
   ]
  },
  {
   "cell_type": "code",
   "execution_count": 7,
   "id": "36fc686f",
   "metadata": {
    "scrolled": true
   },
   "outputs": [
    {
     "data": {
      "text/html": [
       "<div>\n",
       "<style scoped>\n",
       "    .dataframe tbody tr th:only-of-type {\n",
       "        vertical-align: middle;\n",
       "    }\n",
       "\n",
       "    .dataframe tbody tr th {\n",
       "        vertical-align: top;\n",
       "    }\n",
       "\n",
       "    .dataframe thead th {\n",
       "        text-align: right;\n",
       "    }\n",
       "</style>\n",
       "<table border=\"1\" class=\"dataframe\">\n",
       "  <thead>\n",
       "    <tr style=\"text-align: right;\">\n",
       "      <th></th>\n",
       "      <th>User ID</th>\n",
       "      <th>Gender</th>\n",
       "      <th>Age</th>\n",
       "      <th>EstimatedSalary</th>\n",
       "      <th>Purchased</th>\n",
       "    </tr>\n",
       "  </thead>\n",
       "  <tbody>\n",
       "    <tr>\n",
       "      <th>0</th>\n",
       "      <td>15624510</td>\n",
       "      <td>Male</td>\n",
       "      <td>19</td>\n",
       "      <td>19000</td>\n",
       "      <td>0</td>\n",
       "    </tr>\n",
       "    <tr>\n",
       "      <th>1</th>\n",
       "      <td>15810944</td>\n",
       "      <td>Male</td>\n",
       "      <td>35</td>\n",
       "      <td>20000</td>\n",
       "      <td>0</td>\n",
       "    </tr>\n",
       "    <tr>\n",
       "      <th>2</th>\n",
       "      <td>15668575</td>\n",
       "      <td>Female</td>\n",
       "      <td>26</td>\n",
       "      <td>43000</td>\n",
       "      <td>0</td>\n",
       "    </tr>\n",
       "    <tr>\n",
       "      <th>3</th>\n",
       "      <td>15603246</td>\n",
       "      <td>Female</td>\n",
       "      <td>27</td>\n",
       "      <td>57000</td>\n",
       "      <td>0</td>\n",
       "    </tr>\n",
       "    <tr>\n",
       "      <th>4</th>\n",
       "      <td>15804002</td>\n",
       "      <td>Male</td>\n",
       "      <td>19</td>\n",
       "      <td>76000</td>\n",
       "      <td>0</td>\n",
       "    </tr>\n",
       "    <tr>\n",
       "      <th>...</th>\n",
       "      <td>...</td>\n",
       "      <td>...</td>\n",
       "      <td>...</td>\n",
       "      <td>...</td>\n",
       "      <td>...</td>\n",
       "    </tr>\n",
       "    <tr>\n",
       "      <th>395</th>\n",
       "      <td>15691863</td>\n",
       "      <td>Female</td>\n",
       "      <td>46</td>\n",
       "      <td>41000</td>\n",
       "      <td>1</td>\n",
       "    </tr>\n",
       "    <tr>\n",
       "      <th>396</th>\n",
       "      <td>15706071</td>\n",
       "      <td>Male</td>\n",
       "      <td>51</td>\n",
       "      <td>23000</td>\n",
       "      <td>1</td>\n",
       "    </tr>\n",
       "    <tr>\n",
       "      <th>397</th>\n",
       "      <td>15654296</td>\n",
       "      <td>Female</td>\n",
       "      <td>50</td>\n",
       "      <td>20000</td>\n",
       "      <td>1</td>\n",
       "    </tr>\n",
       "    <tr>\n",
       "      <th>398</th>\n",
       "      <td>15755018</td>\n",
       "      <td>Male</td>\n",
       "      <td>36</td>\n",
       "      <td>33000</td>\n",
       "      <td>0</td>\n",
       "    </tr>\n",
       "    <tr>\n",
       "      <th>399</th>\n",
       "      <td>15594041</td>\n",
       "      <td>Female</td>\n",
       "      <td>49</td>\n",
       "      <td>36000</td>\n",
       "      <td>1</td>\n",
       "    </tr>\n",
       "  </tbody>\n",
       "</table>\n",
       "<p>400 rows × 5 columns</p>\n",
       "</div>"
      ],
      "text/plain": [
       "      User ID  Gender  Age  EstimatedSalary  Purchased\n",
       "0    15624510    Male   19            19000          0\n",
       "1    15810944    Male   35            20000          0\n",
       "2    15668575  Female   26            43000          0\n",
       "3    15603246  Female   27            57000          0\n",
       "4    15804002    Male   19            76000          0\n",
       "..        ...     ...  ...              ...        ...\n",
       "395  15691863  Female   46            41000          1\n",
       "396  15706071    Male   51            23000          1\n",
       "397  15654296  Female   50            20000          1\n",
       "398  15755018    Male   36            33000          0\n",
       "399  15594041  Female   49            36000          1\n",
       "\n",
       "[400 rows x 5 columns]"
      ]
     },
     "execution_count": 7,
     "metadata": {},
     "output_type": "execute_result"
    }
   ],
   "source": [
    "df=pd.read_csv(\"Social_Network_Ads.csv\")\n",
    "df"
   ]
  },
  {
   "cell_type": "code",
   "execution_count": 8,
   "id": "5bdc876f",
   "metadata": {},
   "outputs": [
    {
     "data": {
      "text/html": [
       "<div>\n",
       "<style scoped>\n",
       "    .dataframe tbody tr th:only-of-type {\n",
       "        vertical-align: middle;\n",
       "    }\n",
       "\n",
       "    .dataframe tbody tr th {\n",
       "        vertical-align: top;\n",
       "    }\n",
       "\n",
       "    .dataframe thead th {\n",
       "        text-align: right;\n",
       "    }\n",
       "</style>\n",
       "<table border=\"1\" class=\"dataframe\">\n",
       "  <thead>\n",
       "    <tr style=\"text-align: right;\">\n",
       "      <th></th>\n",
       "      <th>User ID</th>\n",
       "      <th>Gender</th>\n",
       "      <th>Age</th>\n",
       "      <th>EstimatedSalary</th>\n",
       "      <th>Purchased</th>\n",
       "    </tr>\n",
       "  </thead>\n",
       "  <tbody>\n",
       "    <tr>\n",
       "      <th>0</th>\n",
       "      <td>15624510</td>\n",
       "      <td>Male</td>\n",
       "      <td>19</td>\n",
       "      <td>19000</td>\n",
       "      <td>0</td>\n",
       "    </tr>\n",
       "    <tr>\n",
       "      <th>1</th>\n",
       "      <td>15810944</td>\n",
       "      <td>Male</td>\n",
       "      <td>35</td>\n",
       "      <td>20000</td>\n",
       "      <td>0</td>\n",
       "    </tr>\n",
       "    <tr>\n",
       "      <th>2</th>\n",
       "      <td>15668575</td>\n",
       "      <td>Female</td>\n",
       "      <td>26</td>\n",
       "      <td>43000</td>\n",
       "      <td>0</td>\n",
       "    </tr>\n",
       "    <tr>\n",
       "      <th>3</th>\n",
       "      <td>15603246</td>\n",
       "      <td>Female</td>\n",
       "      <td>27</td>\n",
       "      <td>57000</td>\n",
       "      <td>0</td>\n",
       "    </tr>\n",
       "    <tr>\n",
       "      <th>4</th>\n",
       "      <td>15804002</td>\n",
       "      <td>Male</td>\n",
       "      <td>19</td>\n",
       "      <td>76000</td>\n",
       "      <td>0</td>\n",
       "    </tr>\n",
       "  </tbody>\n",
       "</table>\n",
       "</div>"
      ],
      "text/plain": [
       "    User ID  Gender  Age  EstimatedSalary  Purchased\n",
       "0  15624510    Male   19            19000          0\n",
       "1  15810944    Male   35            20000          0\n",
       "2  15668575  Female   26            43000          0\n",
       "3  15603246  Female   27            57000          0\n",
       "4  15804002    Male   19            76000          0"
      ]
     },
     "execution_count": 8,
     "metadata": {},
     "output_type": "execute_result"
    }
   ],
   "source": [
    "df.head()"
   ]
  },
  {
   "cell_type": "code",
   "execution_count": 10,
   "id": "83eda44d",
   "metadata": {},
   "outputs": [],
   "source": [
    "x = df[['Age','EstimatedSalary']]\n",
    "y= df['Purchased']"
   ]
  },
  {
   "cell_type": "code",
   "execution_count": 13,
   "id": "d9c9b227",
   "metadata": {},
   "outputs": [
    {
     "data": {
      "text/plain": [
       "(300, 2)"
      ]
     },
     "execution_count": 13,
     "metadata": {},
     "output_type": "execute_result"
    }
   ],
   "source": [
    "from sklearn.model_selection import train_test_split\n",
    "x_train, x_test, y_train, y_test =train_test_split(x,y,test_size=0.25)\n",
    "x_train.shape"
   ]
  },
  {
   "cell_type": "code",
   "execution_count": 17,
   "id": "d7f1532b",
   "metadata": {},
   "outputs": [
    {
     "data": {
      "text/html": [
       "<style>#sk-container-id-1 {color: black;background-color: white;}#sk-container-id-1 pre{padding: 0;}#sk-container-id-1 div.sk-toggleable {background-color: white;}#sk-container-id-1 label.sk-toggleable__label {cursor: pointer;display: block;width: 100%;margin-bottom: 0;padding: 0.3em;box-sizing: border-box;text-align: center;}#sk-container-id-1 label.sk-toggleable__label-arrow:before {content: \"▸\";float: left;margin-right: 0.25em;color: #696969;}#sk-container-id-1 label.sk-toggleable__label-arrow:hover:before {color: black;}#sk-container-id-1 div.sk-estimator:hover label.sk-toggleable__label-arrow:before {color: black;}#sk-container-id-1 div.sk-toggleable__content {max-height: 0;max-width: 0;overflow: hidden;text-align: left;background-color: #f0f8ff;}#sk-container-id-1 div.sk-toggleable__content pre {margin: 0.2em;color: black;border-radius: 0.25em;background-color: #f0f8ff;}#sk-container-id-1 input.sk-toggleable__control:checked~div.sk-toggleable__content {max-height: 200px;max-width: 100%;overflow: auto;}#sk-container-id-1 input.sk-toggleable__control:checked~label.sk-toggleable__label-arrow:before {content: \"▾\";}#sk-container-id-1 div.sk-estimator input.sk-toggleable__control:checked~label.sk-toggleable__label {background-color: #d4ebff;}#sk-container-id-1 div.sk-label input.sk-toggleable__control:checked~label.sk-toggleable__label {background-color: #d4ebff;}#sk-container-id-1 input.sk-hidden--visually {border: 0;clip: rect(1px 1px 1px 1px);clip: rect(1px, 1px, 1px, 1px);height: 1px;margin: -1px;overflow: hidden;padding: 0;position: absolute;width: 1px;}#sk-container-id-1 div.sk-estimator {font-family: monospace;background-color: #f0f8ff;border: 1px dotted black;border-radius: 0.25em;box-sizing: border-box;margin-bottom: 0.5em;}#sk-container-id-1 div.sk-estimator:hover {background-color: #d4ebff;}#sk-container-id-1 div.sk-parallel-item::after {content: \"\";width: 100%;border-bottom: 1px solid gray;flex-grow: 1;}#sk-container-id-1 div.sk-label:hover label.sk-toggleable__label {background-color: #d4ebff;}#sk-container-id-1 div.sk-serial::before {content: \"\";position: absolute;border-left: 1px solid gray;box-sizing: border-box;top: 0;bottom: 0;left: 50%;z-index: 0;}#sk-container-id-1 div.sk-serial {display: flex;flex-direction: column;align-items: center;background-color: white;padding-right: 0.2em;padding-left: 0.2em;position: relative;}#sk-container-id-1 div.sk-item {position: relative;z-index: 1;}#sk-container-id-1 div.sk-parallel {display: flex;align-items: stretch;justify-content: center;background-color: white;position: relative;}#sk-container-id-1 div.sk-item::before, #sk-container-id-1 div.sk-parallel-item::before {content: \"\";position: absolute;border-left: 1px solid gray;box-sizing: border-box;top: 0;bottom: 0;left: 50%;z-index: -1;}#sk-container-id-1 div.sk-parallel-item {display: flex;flex-direction: column;z-index: 1;position: relative;background-color: white;}#sk-container-id-1 div.sk-parallel-item:first-child::after {align-self: flex-end;width: 50%;}#sk-container-id-1 div.sk-parallel-item:last-child::after {align-self: flex-start;width: 50%;}#sk-container-id-1 div.sk-parallel-item:only-child::after {width: 0;}#sk-container-id-1 div.sk-dashed-wrapped {border: 1px dashed gray;margin: 0 0.4em 0.5em 0.4em;box-sizing: border-box;padding-bottom: 0.4em;background-color: white;}#sk-container-id-1 div.sk-label label {font-family: monospace;font-weight: bold;display: inline-block;line-height: 1.2em;}#sk-container-id-1 div.sk-label-container {text-align: center;}#sk-container-id-1 div.sk-container {/* jupyter's `normalize.less` sets `[hidden] { display: none; }` but bootstrap.min.css set `[hidden] { display: none !important; }` so we also need the `!important` here to be able to override the default hidden behavior on the sphinx rendered scikit-learn.org. See: https://github.com/scikit-learn/scikit-learn/issues/21755 */display: inline-block !important;position: relative;}#sk-container-id-1 div.sk-text-repr-fallback {display: none;}</style><div id=\"sk-container-id-1\" class=\"sk-top-container\"><div class=\"sk-text-repr-fallback\"><pre>LogisticRegression()</pre><b>In a Jupyter environment, please rerun this cell to show the HTML representation or trust the notebook. <br />On GitHub, the HTML representation is unable to render, please try loading this page with nbviewer.org.</b></div><div class=\"sk-container\" hidden><div class=\"sk-item\"><div class=\"sk-estimator sk-toggleable\"><input class=\"sk-toggleable__control sk-hidden--visually\" id=\"sk-estimator-id-1\" type=\"checkbox\" checked><label for=\"sk-estimator-id-1\" class=\"sk-toggleable__label sk-toggleable__label-arrow\">LogisticRegression</label><div class=\"sk-toggleable__content\"><pre>LogisticRegression()</pre></div></div></div></div></div>"
      ],
      "text/plain": [
       "LogisticRegression()"
      ]
     },
     "execution_count": 17,
     "metadata": {},
     "output_type": "execute_result"
    }
   ],
   "source": [
    "from sklearn.linear_model import LogisticRegression\n",
    "model = LogisticRegression()\n",
    "model.fit(x_train,y_train)"
   ]
  },
  {
   "cell_type": "code",
   "execution_count": 18,
   "id": "a212cb5e",
   "metadata": {},
   "outputs": [
    {
     "data": {
      "text/plain": [
       "0.66"
      ]
     },
     "execution_count": 18,
     "metadata": {},
     "output_type": "execute_result"
    }
   ],
   "source": [
    "model.score(x_test, y_test)"
   ]
  },
  {
   "cell_type": "code",
   "execution_count": 22,
   "id": "df0b7fce",
   "metadata": {},
   "outputs": [],
   "source": [
    "from sklearn.preprocessing import MinMaxScaler\n",
    "scaler = MinMaxScaler()\n",
    "scaler.fit(x_train)\n",
    "x_train_scaled = scaler.transform(x_train)\n",
    "x_test_scaled = scaler.transform(x_test)"
   ]
  },
  {
   "cell_type": "code",
   "execution_count": 23,
   "id": "11ba5b1f",
   "metadata": {},
   "outputs": [
    {
     "data": {
      "text/html": [
       "<style>#sk-container-id-3 {color: black;background-color: white;}#sk-container-id-3 pre{padding: 0;}#sk-container-id-3 div.sk-toggleable {background-color: white;}#sk-container-id-3 label.sk-toggleable__label {cursor: pointer;display: block;width: 100%;margin-bottom: 0;padding: 0.3em;box-sizing: border-box;text-align: center;}#sk-container-id-3 label.sk-toggleable__label-arrow:before {content: \"▸\";float: left;margin-right: 0.25em;color: #696969;}#sk-container-id-3 label.sk-toggleable__label-arrow:hover:before {color: black;}#sk-container-id-3 div.sk-estimator:hover label.sk-toggleable__label-arrow:before {color: black;}#sk-container-id-3 div.sk-toggleable__content {max-height: 0;max-width: 0;overflow: hidden;text-align: left;background-color: #f0f8ff;}#sk-container-id-3 div.sk-toggleable__content pre {margin: 0.2em;color: black;border-radius: 0.25em;background-color: #f0f8ff;}#sk-container-id-3 input.sk-toggleable__control:checked~div.sk-toggleable__content {max-height: 200px;max-width: 100%;overflow: auto;}#sk-container-id-3 input.sk-toggleable__control:checked~label.sk-toggleable__label-arrow:before {content: \"▾\";}#sk-container-id-3 div.sk-estimator input.sk-toggleable__control:checked~label.sk-toggleable__label {background-color: #d4ebff;}#sk-container-id-3 div.sk-label input.sk-toggleable__control:checked~label.sk-toggleable__label {background-color: #d4ebff;}#sk-container-id-3 input.sk-hidden--visually {border: 0;clip: rect(1px 1px 1px 1px);clip: rect(1px, 1px, 1px, 1px);height: 1px;margin: -1px;overflow: hidden;padding: 0;position: absolute;width: 1px;}#sk-container-id-3 div.sk-estimator {font-family: monospace;background-color: #f0f8ff;border: 1px dotted black;border-radius: 0.25em;box-sizing: border-box;margin-bottom: 0.5em;}#sk-container-id-3 div.sk-estimator:hover {background-color: #d4ebff;}#sk-container-id-3 div.sk-parallel-item::after {content: \"\";width: 100%;border-bottom: 1px solid gray;flex-grow: 1;}#sk-container-id-3 div.sk-label:hover label.sk-toggleable__label {background-color: #d4ebff;}#sk-container-id-3 div.sk-serial::before {content: \"\";position: absolute;border-left: 1px solid gray;box-sizing: border-box;top: 0;bottom: 0;left: 50%;z-index: 0;}#sk-container-id-3 div.sk-serial {display: flex;flex-direction: column;align-items: center;background-color: white;padding-right: 0.2em;padding-left: 0.2em;position: relative;}#sk-container-id-3 div.sk-item {position: relative;z-index: 1;}#sk-container-id-3 div.sk-parallel {display: flex;align-items: stretch;justify-content: center;background-color: white;position: relative;}#sk-container-id-3 div.sk-item::before, #sk-container-id-3 div.sk-parallel-item::before {content: \"\";position: absolute;border-left: 1px solid gray;box-sizing: border-box;top: 0;bottom: 0;left: 50%;z-index: -1;}#sk-container-id-3 div.sk-parallel-item {display: flex;flex-direction: column;z-index: 1;position: relative;background-color: white;}#sk-container-id-3 div.sk-parallel-item:first-child::after {align-self: flex-end;width: 50%;}#sk-container-id-3 div.sk-parallel-item:last-child::after {align-self: flex-start;width: 50%;}#sk-container-id-3 div.sk-parallel-item:only-child::after {width: 0;}#sk-container-id-3 div.sk-dashed-wrapped {border: 1px dashed gray;margin: 0 0.4em 0.5em 0.4em;box-sizing: border-box;padding-bottom: 0.4em;background-color: white;}#sk-container-id-3 div.sk-label label {font-family: monospace;font-weight: bold;display: inline-block;line-height: 1.2em;}#sk-container-id-3 div.sk-label-container {text-align: center;}#sk-container-id-3 div.sk-container {/* jupyter's `normalize.less` sets `[hidden] { display: none; }` but bootstrap.min.css set `[hidden] { display: none !important; }` so we also need the `!important` here to be able to override the default hidden behavior on the sphinx rendered scikit-learn.org. See: https://github.com/scikit-learn/scikit-learn/issues/21755 */display: inline-block !important;position: relative;}#sk-container-id-3 div.sk-text-repr-fallback {display: none;}</style><div id=\"sk-container-id-3\" class=\"sk-top-container\"><div class=\"sk-text-repr-fallback\"><pre>LogisticRegression()</pre><b>In a Jupyter environment, please rerun this cell to show the HTML representation or trust the notebook. <br />On GitHub, the HTML representation is unable to render, please try loading this page with nbviewer.org.</b></div><div class=\"sk-container\" hidden><div class=\"sk-item\"><div class=\"sk-estimator sk-toggleable\"><input class=\"sk-toggleable__control sk-hidden--visually\" id=\"sk-estimator-id-3\" type=\"checkbox\" checked><label for=\"sk-estimator-id-3\" class=\"sk-toggleable__label sk-toggleable__label-arrow\">LogisticRegression</label><div class=\"sk-toggleable__content\"><pre>LogisticRegression()</pre></div></div></div></div></div>"
      ],
      "text/plain": [
       "LogisticRegression()"
      ]
     },
     "execution_count": 23,
     "metadata": {},
     "output_type": "execute_result"
    }
   ],
   "source": [
    "model = LogisticRegression()\n",
    "model.fit(x_train_scaled,y_train)"
   ]
  },
  {
   "cell_type": "code",
   "execution_count": 24,
   "id": "471fd5d0",
   "metadata": {},
   "outputs": [
    {
     "data": {
      "text/plain": [
       "0.83"
      ]
     },
     "execution_count": 24,
     "metadata": {},
     "output_type": "execute_result"
    }
   ],
   "source": [
    "model.score(x_test_scaled,y_test)"
   ]
  },
  {
   "cell_type": "code",
   "execution_count": 26,
   "id": "fe543c50",
   "metadata": {
    "scrolled": false
   },
   "outputs": [
    {
     "data": {
      "text/plain": [
       "array([[0.23809524, 0.32592593],\n",
       "       [0.16666667, 0.48148148],\n",
       "       [0.28571429, 0.54814815],\n",
       "       [0.04761905, 0.25185185],\n",
       "       [0.21428571, 0.03703704],\n",
       "       [0.23809524, 0.12592593],\n",
       "       [0.02380952, 0.45185185],\n",
       "       [0.28571429, 0.        ],\n",
       "       [0.16666667, 0.53333333],\n",
       "       [0.21428571, 0.01481481],\n",
       "       [0.19047619, 0.14814815],\n",
       "       [0.69047619, 0.68148148],\n",
       "       [0.95238095, 0.17037037],\n",
       "       [0.69047619, 0.23703704],\n",
       "       [0.52380952, 0.46666667],\n",
       "       [0.30952381, 0.54814815],\n",
       "       [0.61904762, 0.91851852],\n",
       "       [0.80952381, 0.04444444],\n",
       "       [0.04761905, 0.43703704],\n",
       "       [0.21428571, 0.6       ],\n",
       "       [0.47619048, 0.37037037],\n",
       "       [0.19047619, 0.        ],\n",
       "       [1.        , 0.2       ],\n",
       "       [1.        , 0.68888889],\n",
       "       [0.26190476, 0.98518519],\n",
       "       [0.42857143, 0.33333333],\n",
       "       [0.14285714, 0.31851852],\n",
       "       [0.4047619 , 0.21481481],\n",
       "       [0.33333333, 0.02222222],\n",
       "       [0.4047619 , 0.03703704],\n",
       "       [0.54761905, 0.42222222],\n",
       "       [0.4047619 , 0.41481481],\n",
       "       [0.64285714, 0.05185185],\n",
       "       [0.26190476, 0.34074074],\n",
       "       [0.5       , 0.41481481],\n",
       "       [0.69047619, 0.05925926],\n",
       "       [0.45238095, 0.2962963 ],\n",
       "       [0.4047619 , 0.56296296],\n",
       "       [0.47619048, 0.72592593],\n",
       "       [0.57142857, 0.55555556],\n",
       "       [0.71428571, 0.13333333],\n",
       "       [0.52380952, 0.41481481],\n",
       "       [0.4047619 , 0.42962963],\n",
       "       [0.26190476, 0.48148148],\n",
       "       [0.02380952, 0.04444444],\n",
       "       [0.73809524, 0.43703704],\n",
       "       [0.4047619 , 0.08888889],\n",
       "       [0.71428571, 0.13333333],\n",
       "       [0.26190476, 0.5037037 ],\n",
       "       [0.19047619, 0.48888889],\n",
       "       [0.35714286, 0.99259259],\n",
       "       [0.14285714, 0.12592593],\n",
       "       [0.54761905, 0.11111111],\n",
       "       [0.42857143, 0.95555556],\n",
       "       [0.07142857, 0.54074074],\n",
       "       [0.9047619 , 0.65925926],\n",
       "       [0.66666667, 0.6       ],\n",
       "       [0.5       , 0.88148148],\n",
       "       [0.        , 0.52592593],\n",
       "       [0.07142857, 0.39259259],\n",
       "       [0.54761905, 0.22222222],\n",
       "       [0.4047619 , 0.28148148],\n",
       "       [0.52380952, 0.37037037],\n",
       "       [0.        , 0.27407407],\n",
       "       [0.47619048, 0.34074074],\n",
       "       [0.19047619, 0.42222222],\n",
       "       [0.71428571, 0.11111111],\n",
       "       [0.19047619, 0.48148148],\n",
       "       [0.80952381, 1.        ],\n",
       "       [0.30952381, 0.37777778],\n",
       "       [0.97619048, 0.45185185],\n",
       "       [0.45238095, 0.9037037 ],\n",
       "       [0.54761905, 0.35555556],\n",
       "       [0.57142857, 0.65925926],\n",
       "       [0.04761905, 0.52592593],\n",
       "       [0.66666667, 0.12592593],\n",
       "       [0.47619048, 0.25925926],\n",
       "       [0.38095238, 0.71851852],\n",
       "       [0.42857143, 0.62222222],\n",
       "       [0.45238095, 0.97037037],\n",
       "       [0.19047619, 0.48148148],\n",
       "       [0.21428571, 0.31851852],\n",
       "       [0.30952381, 0.76296296],\n",
       "       [0.11904762, 0.35555556],\n",
       "       [0.54761905, 0.32592593],\n",
       "       [0.45238095, 0.34814815],\n",
       "       [0.33333333, 0.62962963],\n",
       "       [0.45238095, 0.46666667],\n",
       "       [0.88095238, 0.81481481],\n",
       "       [0.47619048, 0.25925926],\n",
       "       [0.4047619 , 0.2962963 ],\n",
       "       [0.92857143, 0.13333333],\n",
       "       [0.14285714, 0.54814815],\n",
       "       [0.71428571, 0.6       ],\n",
       "       [0.71428571, 0.85925926],\n",
       "       [0.66666667, 0.32592593],\n",
       "       [0.9047619 , 0.33333333],\n",
       "       [0.04761905, 0.15555556],\n",
       "       [0.4047619 , 0.44444444],\n",
       "       [0.19047619, 0.52592593],\n",
       "       [0.4047619 , 0.17777778],\n",
       "       [0.54761905, 0.41481481],\n",
       "       [0.0952381 , 0.35555556],\n",
       "       [1.        , 0.2       ],\n",
       "       [0.23809524, 0.53333333],\n",
       "       [0.26190476, 0.0962963 ],\n",
       "       [0.69047619, 0.26666667],\n",
       "       [0.47619048, 0.34074074],\n",
       "       [0.23809524, 0.32592593],\n",
       "       [0.16666667, 0.05185185],\n",
       "       [0.33333333, 0.88888889],\n",
       "       [0.11904762, 0.0962963 ],\n",
       "       [0.28571429, 0.48148148],\n",
       "       [0.66666667, 0.54074074],\n",
       "       [0.71428571, 0.14814815],\n",
       "       [0.11904762, 0.4962963 ],\n",
       "       [0.45238095, 0.42222222],\n",
       "       [0.80952381, 0.91111111],\n",
       "       [0.73809524, 0.52592593],\n",
       "       [0.80952381, 0.55555556],\n",
       "       [0.21428571, 0.11851852],\n",
       "       [0.16666667, 0.13333333],\n",
       "       [0.30952381, 0.02222222],\n",
       "       [0.4047619 , 0.23703704],\n",
       "       [0.52380952, 0.34074074],\n",
       "       [0.45238095, 0.57777778],\n",
       "       [0.85714286, 0.68888889],\n",
       "       [0.23809524, 0.2962963 ],\n",
       "       [0.19047619, 0.11111111],\n",
       "       [0.        , 0.21481481],\n",
       "       [0.04761905, 0.05925926],\n",
       "       [0.54761905, 0.42222222],\n",
       "       [0.26190476, 0.23703704],\n",
       "       [0.21428571, 0.31851852],\n",
       "       [0.11904762, 0.37777778],\n",
       "       [0.78571429, 0.88148148],\n",
       "       [0.47619048, 0.48148148],\n",
       "       [0.0952381 , 0.02222222],\n",
       "       [0.4047619 , 0.32592593],\n",
       "       [0.11904762, 0.03703704],\n",
       "       [0.33333333, 0.75555556],\n",
       "       [0.69047619, 0.07407407],\n",
       "       [0.64285714, 0.47407407],\n",
       "       [0.14285714, 0.51111111],\n",
       "       [0.23809524, 0.16296296],\n",
       "       [0.02380952, 0.02962963],\n",
       "       [0.26190476, 0.20740741],\n",
       "       [0.23809524, 0.54814815],\n",
       "       [0.57142857, 0.37037037],\n",
       "       [0.73809524, 0.54074074],\n",
       "       [0.5       , 0.6       ],\n",
       "       [0.66666667, 0.47407407],\n",
       "       [0.14285714, 0.08888889],\n",
       "       [0.35714286, 0.11851852],\n",
       "       [0.30952381, 0.31851852],\n",
       "       [0.52380952, 0.94074074],\n",
       "       [0.30952381, 0.14074074],\n",
       "       [0.26190476, 0.5037037 ],\n",
       "       [0.95238095, 0.59259259],\n",
       "       [0.54761905, 0.42222222],\n",
       "       [0.73809524, 0.54814815],\n",
       "       [0.42857143, 0.28888889],\n",
       "       [0.02380952, 0.51851852],\n",
       "       [0.54761905, 0.33333333],\n",
       "       [0.54761905, 0.26666667],\n",
       "       [0.19047619, 0.00740741],\n",
       "       [0.42857143, 0.35555556],\n",
       "       [0.42857143, 0.81481481],\n",
       "       [0.45238095, 0.43703704],\n",
       "       [0.19047619, 0.01481481],\n",
       "       [0.5       , 0.67407407],\n",
       "       [0.4047619 , 0.54074074],\n",
       "       [0.4047619 , 0.42222222],\n",
       "       [0.71428571, 0.77037037],\n",
       "       [0.4047619 , 0.34074074],\n",
       "       [0.45238095, 0.28148148],\n",
       "       [0.04761905, 0.4962963 ],\n",
       "       [0.69047619, 0.25925926],\n",
       "       [0.28571429, 0.88888889],\n",
       "       [0.57142857, 0.37037037],\n",
       "       [0.5952381 , 0.71851852],\n",
       "       [0.21428571, 0.54074074],\n",
       "       [0.0952381 , 0.48888889],\n",
       "       [0.42857143, 0.25925926],\n",
       "       [0.02380952, 0.08148148],\n",
       "       [0.54761905, 0.47407407],\n",
       "       [0.42857143, 0.44444444],\n",
       "       [0.57142857, 0.28888889],\n",
       "       [0.85714286, 0.40740741],\n",
       "       [0.4047619 , 0.17037037],\n",
       "       [0.97619048, 0.1037037 ],\n",
       "       [0.19047619, 0.20740741],\n",
       "       [0.45238095, 0.95555556],\n",
       "       [0.78571429, 0.97037037],\n",
       "       [0.80952381, 0.17037037],\n",
       "       [0.4047619 , 0.97777778],\n",
       "       [0.5       , 0.32592593],\n",
       "       [0.23809524, 0.47407407],\n",
       "       [0.83333333, 0.42222222],\n",
       "       [0.45238095, 0.27407407],\n",
       "       [0.35714286, 0.19259259],\n",
       "       [0.45238095, 0.48148148],\n",
       "       [0.19047619, 0.76296296],\n",
       "       [0.69047619, 0.14074074],\n",
       "       [0.71428571, 0.93333333],\n",
       "       [0.28571429, 0.53333333],\n",
       "       [0.80952381, 0.73333333],\n",
       "       [0.54761905, 0.27407407],\n",
       "       [0.4047619 , 0.47407407],\n",
       "       [0.33333333, 1.        ],\n",
       "       [0.71428571, 0.19259259],\n",
       "       [0.4047619 , 0.60740741],\n",
       "       [0.52380952, 0.33333333],\n",
       "       [0.97619048, 0.94814815],\n",
       "       [0.4047619 , 0.68888889],\n",
       "       [0.69047619, 0.25185185],\n",
       "       [0.33333333, 0.75555556],\n",
       "       [0.71428571, 0.88148148],\n",
       "       [0.23809524, 0.51111111],\n",
       "       [0.19047619, 0.12592593],\n",
       "       [0.21428571, 0.51111111],\n",
       "       [0.5952381 , 0.87407407],\n",
       "       [0.23809524, 0.51851852],\n",
       "       [0.42857143, 0.82222222],\n",
       "       [0.45238095, 0.31111111],\n",
       "       [0.47619048, 0.2962963 ],\n",
       "       [0.5952381 , 0.84444444],\n",
       "       [0.21428571, 0.31111111],\n",
       "       [0.69047619, 0.11111111],\n",
       "       [0.5       , 0.2       ],\n",
       "       [0.85714286, 0.08148148],\n",
       "       [1.        , 0.64444444],\n",
       "       [0.76190476, 0.21481481],\n",
       "       [0.45238095, 0.40740741],\n",
       "       [0.19047619, 0.27407407],\n",
       "       [0.66666667, 0.05185185],\n",
       "       [0.45238095, 0.45925926],\n",
       "       [0.21428571, 0.28888889],\n",
       "       [0.23809524, 0.8       ],\n",
       "       [0.0952381 , 0.08888889],\n",
       "       [0.52380952, 0.44444444],\n",
       "       [0.57142857, 0.42962963],\n",
       "       [0.83333333, 0.14074074],\n",
       "       [0.54761905, 0.48148148],\n",
       "       [0.57142857, 0.99259259],\n",
       "       [0.02380952, 0.07407407],\n",
       "       [0.69047619, 0.95555556],\n",
       "       [0.47619048, 0.41481481],\n",
       "       [0.19047619, 0.        ],\n",
       "       [0.71428571, 0.1037037 ],\n",
       "       [0.83333333, 0.65925926],\n",
       "       [0.4047619 , 0.05185185],\n",
       "       [0.52380952, 0.31111111],\n",
       "       [0.92857143, 0.08148148],\n",
       "       [0.4047619 , 0.25925926],\n",
       "       [0.52380952, 0.31111111],\n",
       "       [0.5       , 0.45925926],\n",
       "       [0.14285714, 0.02962963],\n",
       "       [0.5       , 0.47407407],\n",
       "       [0.66666667, 0.0962963 ],\n",
       "       [0.5       , 0.44444444],\n",
       "       [0.45238095, 0.41481481],\n",
       "       [0.97619048, 0.85185185],\n",
       "       [0.66666667, 0.43703704],\n",
       "       [0.71428571, 0.55555556],\n",
       "       [0.52380952, 0.44444444],\n",
       "       [0.07142857, 0.00740741],\n",
       "       [0.57142857, 0.47407407],\n",
       "       [0.07142857, 0.42222222],\n",
       "       [0.16666667, 0.47407407],\n",
       "       [0.64285714, 0.05185185],\n",
       "       [0.21428571, 0.9037037 ],\n",
       "       [0.5       , 0.79259259],\n",
       "       [1.        , 0.14074074],\n",
       "       [0.83333333, 0.4962963 ],\n",
       "       [0.30952381, 0.45185185],\n",
       "       [0.35714286, 0.20740741],\n",
       "       [1.        , 0.5037037 ],\n",
       "       [0.83333333, 0.94814815],\n",
       "       [0.4047619 , 0.31111111],\n",
       "       [0.73809524, 0.0962963 ],\n",
       "       [0.97619048, 0.5037037 ],\n",
       "       [0.97619048, 0.54074074],\n",
       "       [0.0952381 , 0.2962963 ],\n",
       "       [0.5       , 0.34074074],\n",
       "       [0.5       , 0.2       ],\n",
       "       [0.95238095, 0.05925926],\n",
       "       [0.5       , 0.41481481],\n",
       "       [0.85714286, 0.65925926],\n",
       "       [0.57142857, 0.36296296],\n",
       "       [0.38095238, 0.20740741],\n",
       "       [0.33333333, 0.77777778],\n",
       "       [0.73809524, 0.0962963 ],\n",
       "       [0.66666667, 0.19259259],\n",
       "       [0.28571429, 0.34814815],\n",
       "       [0.57142857, 0.28888889],\n",
       "       [0.28571429, 0.74814815],\n",
       "       [0.76190476, 0.54074074],\n",
       "       [1.        , 0.22962963],\n",
       "       [0.4047619 , 0.05925926]])"
      ]
     },
     "execution_count": 26,
     "metadata": {},
     "output_type": "execute_result"
    }
   ],
   "source": [
    "x_train_scaled"
   ]
  },
  {
   "cell_type": "code",
   "execution_count": 54,
   "id": "253b6484",
   "metadata": {},
   "outputs": [
    {
     "data": {
      "text/html": [
       "<div>\n",
       "<style scoped>\n",
       "    .dataframe tbody tr th:only-of-type {\n",
       "        vertical-align: middle;\n",
       "    }\n",
       "\n",
       "    .dataframe tbody tr th {\n",
       "        vertical-align: top;\n",
       "    }\n",
       "\n",
       "    .dataframe thead th {\n",
       "        text-align: right;\n",
       "    }\n",
       "</style>\n",
       "<table border=\"1\" class=\"dataframe\">\n",
       "  <thead>\n",
       "    <tr style=\"text-align: right;\">\n",
       "      <th></th>\n",
       "      <th>Age</th>\n",
       "      <th>EstimatedSalary</th>\n",
       "    </tr>\n",
       "  </thead>\n",
       "  <tbody>\n",
       "    <tr>\n",
       "      <th>101</th>\n",
       "      <td>28</td>\n",
       "      <td>59000</td>\n",
       "    </tr>\n",
       "    <tr>\n",
       "      <th>70</th>\n",
       "      <td>25</td>\n",
       "      <td>80000</td>\n",
       "    </tr>\n",
       "    <tr>\n",
       "      <th>143</th>\n",
       "      <td>30</td>\n",
       "      <td>89000</td>\n",
       "    </tr>\n",
       "    <tr>\n",
       "      <th>82</th>\n",
       "      <td>20</td>\n",
       "      <td>49000</td>\n",
       "    </tr>\n",
       "    <tr>\n",
       "      <th>60</th>\n",
       "      <td>27</td>\n",
       "      <td>20000</td>\n",
       "    </tr>\n",
       "    <tr>\n",
       "      <th>...</th>\n",
       "      <td>...</td>\n",
       "      <td>...</td>\n",
       "    </tr>\n",
       "    <tr>\n",
       "      <th>359</th>\n",
       "      <td>42</td>\n",
       "      <td>54000</td>\n",
       "    </tr>\n",
       "    <tr>\n",
       "      <th>91</th>\n",
       "      <td>30</td>\n",
       "      <td>116000</td>\n",
       "    </tr>\n",
       "    <tr>\n",
       "      <th>242</th>\n",
       "      <td>50</td>\n",
       "      <td>88000</td>\n",
       "    </tr>\n",
       "    <tr>\n",
       "      <th>370</th>\n",
       "      <td>60</td>\n",
       "      <td>46000</td>\n",
       "    </tr>\n",
       "    <tr>\n",
       "      <th>53</th>\n",
       "      <td>35</td>\n",
       "      <td>23000</td>\n",
       "    </tr>\n",
       "  </tbody>\n",
       "</table>\n",
       "<p>300 rows × 2 columns</p>\n",
       "</div>"
      ],
      "text/plain": [
       "     Age  EstimatedSalary\n",
       "101   28            59000\n",
       "70    25            80000\n",
       "143   30            89000\n",
       "82    20            49000\n",
       "60    27            20000\n",
       "..   ...              ...\n",
       "359   42            54000\n",
       "91    30           116000\n",
       "242   50            88000\n",
       "370   60            46000\n",
       "53    35            23000\n",
       "\n",
       "[300 rows x 2 columns]"
      ]
     },
     "execution_count": 54,
     "metadata": {},
     "output_type": "execute_result"
    }
   ],
   "source": [
    "x_train"
   ]
  },
  {
   "cell_type": "code",
   "execution_count": 55,
   "id": "4a892c99",
   "metadata": {},
   "outputs": [
    {
     "data": {
      "text/plain": [
       "101    0\n",
       "70     0\n",
       "143    0\n",
       "82     0\n",
       "60     0\n",
       "      ..\n",
       "359    0\n",
       "91     0\n",
       "242    1\n",
       "370    1\n",
       "53     0\n",
       "Name: Purchased, Length: 300, dtype: int64"
      ]
     },
     "execution_count": 55,
     "metadata": {},
     "output_type": "execute_result"
    }
   ],
   "source": [
    "y_train"
   ]
  },
  {
   "cell_type": "code",
   "execution_count": 27,
   "id": "90c0a4a7",
   "metadata": {},
   "outputs": [],
   "source": [
    "from sklearn.metrics import confusion_matrix"
   ]
  },
  {
   "cell_type": "code",
   "execution_count": 28,
   "id": "521dc85e",
   "metadata": {},
   "outputs": [
    {
     "data": {
      "text/plain": [
       "array([0, 0, 0, 0, 1, 0, 1, 1, 0, 0, 0, 1, 0, 0, 0, 0, 1, 0, 0, 0, 0, 0,\n",
       "       1, 0, 0, 0, 0, 0, 0, 0, 0, 0, 0, 1, 0, 0, 0, 0, 0, 0, 1, 0, 0, 0,\n",
       "       1, 0, 0, 0, 0, 1, 0, 0, 1, 0, 0, 0, 0, 0, 0, 1, 0, 0, 0, 0, 1, 1,\n",
       "       0, 1, 0, 1, 1, 0, 0, 0, 0, 0, 1, 1, 1, 0, 0, 0, 0, 1, 0, 0, 0, 1,\n",
       "       0, 1, 0, 1, 0, 0, 1, 0, 0, 0, 0, 0], dtype=int64)"
      ]
     },
     "execution_count": 28,
     "metadata": {},
     "output_type": "execute_result"
    }
   ],
   "source": [
    "y_p = model.predict(x_test_scaled)\n",
    "y_p"
   ]
  },
  {
   "cell_type": "code",
   "execution_count": 29,
   "id": "44dc6fe3",
   "metadata": {},
   "outputs": [
    {
     "data": {
      "text/plain": [
       "array([[62,  4],\n",
       "       [13, 21]], dtype=int64)"
      ]
     },
     "execution_count": 29,
     "metadata": {},
     "output_type": "execute_result"
    }
   ],
   "source": [
    "confusion_matrix(y_test,y_p)"
   ]
  },
  {
   "cell_type": "code",
   "execution_count": 40,
   "id": "c20d7d12",
   "metadata": {},
   "outputs": [
    {
     "name": "stderr",
     "output_type": "stream",
     "text": [
      "C:\\Users\\rdkes\\anaconda3\\lib\\site-packages\\sklearn\\base.py:413: UserWarning: X has feature names, but LogisticRegression was fitted without feature names\n",
      "  warnings.warn(\n",
      "C:\\Users\\rdkes\\anaconda3\\lib\\site-packages\\sklearn\\base.py:413: UserWarning: X has feature names, but LogisticRegression was fitted without feature names\n",
      "  warnings.warn(\n"
     ]
    }
   ],
   "source": [
    "ytrain_pred = model.predict(x_train)\n",
    "ytest_pred = model.predict(x_test)\n"
   ]
  },
  {
   "cell_type": "code",
   "execution_count": 41,
   "id": "c0a501b6",
   "metadata": {},
   "outputs": [
    {
     "data": {
      "text/plain": [
       "array([1, 1, 1, 1, 1, 1, 1, 1, 1, 1, 1, 1, 1, 1, 1, 1, 1, 1, 1, 1, 1, 1,\n",
       "       1, 1, 1, 1, 1, 1, 1, 1, 1, 1, 1, 1, 1, 1, 1, 1, 1, 1, 1, 1, 1, 1,\n",
       "       1, 1, 1, 1, 1, 1, 1, 1, 1, 1, 1, 1, 1, 1, 1, 1, 1, 1, 1, 1, 1, 1,\n",
       "       1, 1, 1, 1, 1, 1, 1, 1, 1, 1, 1, 1, 1, 1, 1, 1, 1, 1, 1, 1, 1, 1,\n",
       "       1, 1, 1, 1, 1, 1, 1, 1, 1, 1, 1, 1, 1, 1, 1, 1, 1, 1, 1, 1, 1, 1,\n",
       "       1, 1, 1, 1, 1, 1, 1, 1, 1, 1, 1, 1, 1, 1, 1, 1, 1, 1, 1, 1, 1, 1,\n",
       "       1, 1, 1, 1, 1, 1, 1, 1, 1, 1, 1, 1, 1, 1, 1, 1, 1, 1, 1, 1, 1, 1,\n",
       "       1, 1, 1, 1, 1, 1, 1, 1, 1, 1, 1, 1, 1, 1, 1, 1, 1, 1, 1, 1, 1, 1,\n",
       "       1, 1, 1, 1, 1, 1, 1, 1, 1, 1, 1, 1, 1, 1, 1, 1, 1, 1, 1, 1, 1, 1,\n",
       "       1, 1, 1, 1, 1, 1, 1, 1, 1, 1, 1, 1, 1, 1, 1, 1, 1, 1, 1, 1, 1, 1,\n",
       "       1, 1, 1, 1, 1, 1, 1, 1, 1, 1, 1, 1, 1, 1, 1, 1, 1, 1, 1, 1, 1, 1,\n",
       "       1, 1, 1, 1, 1, 1, 1, 1, 1, 1, 1, 1, 1, 1, 1, 1, 1, 1, 1, 1, 1, 1,\n",
       "       1, 1, 1, 1, 1, 1, 1, 1, 1, 1, 1, 1, 1, 1, 1, 1, 1, 1, 1, 1, 1, 1,\n",
       "       1, 1, 1, 1, 1, 1, 1, 1, 1, 1, 1, 1, 1, 1], dtype=int64)"
      ]
     },
     "execution_count": 41,
     "metadata": {},
     "output_type": "execute_result"
    }
   ],
   "source": [
    "ytrain_pred"
   ]
  },
  {
   "cell_type": "code",
   "execution_count": 42,
   "id": "00e59112",
   "metadata": {},
   "outputs": [
    {
     "data": {
      "text/plain": [
       "array([1, 1, 1, 1, 1, 1, 1, 1, 1, 1, 1, 1, 1, 1, 1, 1, 1, 1, 1, 1, 1, 1,\n",
       "       1, 1, 1, 1, 1, 1, 1, 1, 1, 1, 1, 1, 1, 1, 1, 1, 1, 1, 1, 1, 1, 1,\n",
       "       1, 1, 1, 1, 1, 1, 1, 1, 1, 1, 1, 1, 1, 1, 1, 1, 1, 1, 1, 1, 1, 1,\n",
       "       1, 1, 1, 1, 1, 1, 1, 1, 1, 1, 1, 1, 1, 1, 1, 1, 1, 1, 1, 1, 1, 1,\n",
       "       1, 1, 1, 1, 1, 1, 1, 1, 1, 1, 1, 1], dtype=int64)"
      ]
     },
     "execution_count": 42,
     "metadata": {},
     "output_type": "execute_result"
    }
   ],
   "source": [
    "ytest_pred"
   ]
  },
  {
   "cell_type": "code",
   "execution_count": 44,
   "id": "f3beca6e",
   "metadata": {},
   "outputs": [
    {
     "name": "stdout",
     "output_type": "stream",
     "text": [
      "[[ 0 66]\n",
      " [ 0 34]]\n"
     ]
    }
   ],
   "source": [
    "from sklearn.metrics import confusion_matrix,classification_report,accuracy_score\n",
    "matrix = confusion_matrix(y_test,ytest_pred)\n",
    "print(matrix)"
   ]
  },
  {
   "cell_type": "code",
   "execution_count": 46,
   "id": "4af25528",
   "metadata": {},
   "outputs": [
    {
     "data": {
      "text/plain": [
       "0.34"
      ]
     },
     "execution_count": 46,
     "metadata": {},
     "output_type": "execute_result"
    }
   ],
   "source": [
    "score=accuracy_score(y_test,ytest_pred)\n",
    "score"
   ]
  },
  {
   "cell_type": "code",
   "execution_count": 49,
   "id": "afeb766e",
   "metadata": {},
   "outputs": [
    {
     "data": {
      "text/plain": [
       "<Axes: >"
      ]
     },
     "execution_count": 49,
     "metadata": {},
     "output_type": "execute_result"
    },
    {
     "data": {
      "image/png": "[encoded data removed]",
      "text/plain": [
       "<Figure size 640x480 with 2 Axes>"
      ]
     },
     "metadata": {},
     "output_type": "display_data"
    }
   ],
   "source": [
    "import seaborn as sns\n",
    "sns.heatmap(matrix,annot=True)\n"
   ]
  },
  {
   "cell_type": "code",
   "execution_count": 51,
   "id": "465ec765",
   "metadata": {},
   "outputs": [],
   "source": [
    "tn, fp, fn, tp = confusion_matrix(y_test,ytest_pred).ravel()\n"
   ]
  },
  {
   "cell_type": "code",
   "execution_count": 52,
   "id": "f5cd8ccf",
   "metadata": {},
   "outputs": [
    {
     "name": "stdout",
     "output_type": "stream",
     "text": [
      "0 66 0 34\n"
     ]
    }
   ],
   "source": [
    "print(tn, fp, fn, tp)0\n"
   ]
  },
  {
   "cell_type": "code",
   "execution_count": 53,
   "id": "18a4fa2a",
   "metadata": {},
   "outputs": [
    {
     "name": "stdout",
     "output_type": "stream",
     "text": [
      "Error rate 0.5\n"
     ]
    }
   ],
   "source": [
    "print(\"Error rate\",(fp+fn)/(tn+fp+fn+fp))"
   ]
  }
 ],
 "metadata": {
  "kernelspec": {
   "display_name": "Python 3 (ipykernel)",
   "language": "python",
   "name": "python3"
  },
  "language_info": {
   "codemirror_mode": {
    "name": "ipython",
    "version": 3
   },
   "file_extension": ".py",
   "mimetype": "text/x-python",
   "name": "python",
   "nbconvert_exporter": "python",
   "pygments_lexer": "ipython3",
   "version": "3.10.9"
  }
 },
 "nbformat": 4,
 "nbformat_minor": 5
}
